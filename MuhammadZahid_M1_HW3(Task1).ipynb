{
 "cells": [
  {
   "cell_type": "code",
   "execution_count": 4,
   "metadata": {},
   "outputs": [],
   "source": [
    "names = ['Adam', 'Natalie', 'John', 'Amanda', 'Jack', 'Benjamin']"
   ]
  },
  {
   "cell_type": "code",
   "execution_count": 5,
   "metadata": {},
   "outputs": [],
   "source": [
    "relation = ['Grandfather', 'Grandmother', 'Husband', 'Wife', 'Son', 'Son']"
   ]
  },
  {
   "cell_type": "code",
   "execution_count": 6,
   "metadata": {},
   "outputs": [],
   "source": [
    "gender = ['he', 'she', 'he', 'she', 'he', 'he']"
   ]
  },
  {
   "cell_type": "code",
   "execution_count": 7,
   "metadata": {},
   "outputs": [],
   "source": [
    "age = ['72', '65', '42', '40', '22', '20']"
   ]
  },
  {
   "cell_type": "code",
   "execution_count": 8,
   "metadata": {},
   "outputs": [
    {
     "name": "stdout",
     "output_type": "stream",
     "text": [
      "Adam who is the Grandfather and he is 72 years old.\n",
      "Natalie who is the Grandmother and she is 65 years old.\n",
      "John who is the Husband and he is 42 years old.\n",
      "Amanda who is the Wife and she is 40 years old.\n",
      "Jack who is the Son and he is 22 years old.\n",
      "Benjamin who is the Son and he is 20 years old.\n"
     ]
    }
   ],
   "source": [
    "for family in range(len(names)):\n",
    "    print(names[family] + ' who is the ' + relation[family] + ' and ' + gender[family] + ' is ' + age[family] + ' years old.')"
   ]
  },
  {
   "cell_type": "code",
   "execution_count": null,
   "metadata": {},
   "outputs": [],
   "source": []
  }
 ],
 "metadata": {
  "kernelspec": {
   "display_name": "Python 3",
   "language": "python",
   "name": "python3"
  },
  "language_info": {
   "codemirror_mode": {
    "name": "ipython",
    "version": 3
   },
   "file_extension": ".py",
   "mimetype": "text/x-python",
   "name": "python",
   "nbconvert_exporter": "python",
   "pygments_lexer": "ipython3",
   "version": "3.8.3"
  }
 },
 "nbformat": 4,
 "nbformat_minor": 4
}
