{
 "cells": [
  {
   "cell_type": "markdown",
   "metadata": {},
   "source": [
    " # Python Syntax"
   ]
  },
  {
   "cell_type": "markdown",
   "metadata": {},
   "source": [
    "### Displaying the output of a computer program"
   ]
  },
  {
   "cell_type": "code",
   "execution_count": 23,
   "metadata": {},
   "outputs": [
    {
     "name": "stdout",
     "output_type": "stream",
     "text": [
      "My name is Hassan\n",
      "15\n"
     ]
    }
   ],
   "source": [
    "print(\"My name is Hassan\")\n",
    "print(5+10)"
   ]
  },
  {
   "cell_type": "markdown",
   "metadata": {},
   "source": [
    "### Assigning the Value"
   ]
  },
  {
   "cell_type": "code",
   "execution_count": 24,
   "metadata": {},
   "outputs": [
    {
     "name": "stdout",
     "output_type": "stream",
     "text": [
      "10\n",
      "Hassan\n",
      "15.66\n"
     ]
    }
   ],
   "source": [
    "x = 10\n",
    "y = \"Hassan\"\n",
    "z = 15.66\n",
    "print(x)\n",
    "print(y)\n",
    "print(z)"
   ]
  },
  {
   "cell_type": "markdown",
   "metadata": {},
   "source": [
    "### Creating a Comment"
   ]
  },
  {
   "cell_type": "code",
   "execution_count": 25,
   "metadata": {},
   "outputs": [
    {
     "name": "stdout",
     "output_type": "stream",
     "text": [
      "my name is Hassan\n",
      "15\n"
     ]
    }
   ],
   "source": [
    "#this is the comment\n",
    "print('My name is Hassan')\n",
    "\n",
    "#this is the comment\n",
    "#written in \n",
    "\n",
    "print(10+5) #more than just one line"
   ]
  },
  {
   "cell_type": "code",
   "execution_count": 26,
   "metadata": {},
   "outputs": [
    {
     "name": "stdout",
     "output_type": "stream",
     "text": [
      "6\n"
     ]
    }
   ],
   "source": [
    "#ignoring certain line of code by using code comment\n",
    "#x=4\n",
    "y=6\n",
    "print(y)\n",
    "\n",
    "\n",
    "#you can add multi line string \n",
    "#in your code, \n",
    "#and place your comment inside it"
   ]
  },
  {
   "cell_type": "markdown",
   "metadata": {},
   "source": [
    "### Python Input() Function"
   ]
  },
  {
   "cell_type": "code",
   "execution_count": 29,
   "metadata": {},
   "outputs": [
    {
     "name": "stdout",
     "output_type": "stream",
     "text": [
      "Enter your name:\n",
      "Hassan\n",
      "Hello, Hassan\n"
     ]
    }
   ],
   "source": [
    "#Ask for the user's name and print it\n",
    "print('Enter your name:')\n",
    "x = input()\n",
    "print('Hello, ' + x)"
   ]
  },
  {
   "cell_type": "code",
   "execution_count": 30,
   "metadata": {},
   "outputs": [
    {
     "name": "stdout",
     "output_type": "stream",
     "text": [
      "Enter your name:Hassan\n",
      "Hello, Hassan\n"
     ]
    }
   ],
   "source": [
    "#Use the prompt parameter to write a message before the input\n",
    "x = input('Enter your name:')\n",
    "print('Hello, ' + x)"
   ]
  },
  {
   "cell_type": "markdown",
   "metadata": {},
   "source": [
    "### Import Libraries"
   ]
  },
  {
   "cell_type": "markdown",
   "metadata": {},
   "source": [
    "Modules are Python .py files that consist of Python code.\n",
    "\n",
    "In Python, modules are accessed by using the import statement.\n",
    "\n",
    "There are a number of modules that are built into the Python Standard Library. \n",
    "\n",
    "The Python Standard Library is part of every Python installation."
   ]
  },
  {
   "cell_type": "code",
   "execution_count": 32,
   "metadata": {},
   "outputs": [],
   "source": [
    "import numpy\n",
    "import pandas"
   ]
  },
  {
   "cell_type": "code",
   "execution_count": 33,
   "metadata": {},
   "outputs": [
    {
     "name": "stdout",
     "output_type": "stream",
     "text": [
      "3.141592653589793\n"
     ]
    }
   ],
   "source": [
    "import random\n",
    "#from random import randint\n",
    "import math as mt\n",
    "#import math as m # aliasing module\n",
    "\n",
    "print(mt.pi)"
   ]
  },
  {
   "cell_type": "markdown",
   "metadata": {},
   "source": [
    "# Variables & Data Types"
   ]
  },
  {
   "cell_type": "markdown",
   "metadata": {},
   "source": [
    "### Creating Variable"
   ]
  },
  {
   "cell_type": "code",
   "execution_count": 36,
   "metadata": {},
   "outputs": [
    {
     "name": "stdout",
     "output_type": "stream",
     "text": [
      "15\n",
      "10\n",
      "25\n"
     ]
    }
   ],
   "source": [
    "\"\"\"\n",
    "Variables are containers for storing data values.\n",
    "\n",
    "Unlike other programming languages, Python has no command for declaring a variable.\n",
    "\n",
    "A variable is created the moment you first assign a value to it.\n",
    "\n",
    "(This is a multi line Comment)\n",
    "\"\"\"\n",
    "\n",
    "x = 15\n",
    "y = 10\n",
    "z = x + y\n",
    "print(x)\n",
    "print(y)\n",
    "print(z)"
   ]
  },
  {
   "cell_type": "markdown",
   "metadata": {},
   "source": [
    "##### These are the two syntax rules we need to be aware of when we're naming variables:\n",
    "\n",
    "1. We must use only letters, numbers, or underscores (we cannot use apostrophes, hyphens, whitespace characters, etc.).\n",
    "2. Variable names cannot start with a number."
   ]
  },
  {
   "cell_type": "code",
   "execution_count": 37,
   "metadata": {},
   "outputs": [],
   "source": [
    "#Legal variable names:\n",
    "myvar = \"Hassan\"\n",
    "my_var = \"Hassan\"\n",
    "_my_var = \"Hassan\"\n",
    "myVar = \"Hassan\"\n",
    "MYVAR = \"Hassan\"\n",
    "myvar2 = \"Hassan\""
   ]
  },
  {
   "cell_type": "code",
   "execution_count": 38,
   "metadata": {},
   "outputs": [
    {
     "ename": "SyntaxError",
     "evalue": "invalid syntax (<ipython-input-38-c009c762c6e6>, line 2)",
     "output_type": "error",
     "traceback": [
      "\u001b[1;36m  File \u001b[1;32m\"<ipython-input-38-c009c762c6e6>\"\u001b[1;36m, line \u001b[1;32m2\u001b[0m\n\u001b[1;33m    2myvar = \"Hassan\"\u001b[0m\n\u001b[1;37m         ^\u001b[0m\n\u001b[1;31mSyntaxError\u001b[0m\u001b[1;31m:\u001b[0m invalid syntax\n"
     ]
    }
   ],
   "source": [
    "#Illegal variable names:\n",
    "2myvar = \"Hassan\"\n",
    "my-var = \"Hassan\"\n",
    "my var = \"Hassan\"\n",
    "\n",
    "#Variable names are case-sensitive (age, Age and AGE are three different variables)"
   ]
  },
  {
   "cell_type": "markdown",
   "metadata": {},
   "source": [
    "### Assign Value to Multiple Variables"
   ]
  },
  {
   "cell_type": "code",
   "execution_count": 39,
   "metadata": {},
   "outputs": [
    {
     "name": "stdout",
     "output_type": "stream",
     "text": [
      "Black\n",
      "White\n",
      "Blue\n"
     ]
    }
   ],
   "source": [
    "# Python allows you to assign values to multiple variables in one line\n",
    "x, y, z = \"Black\" , \"White\" , \"Blue\"\n",
    "print(x)\n",
    "print(y)\n",
    "print(z)"
   ]
  },
  {
   "cell_type": "code",
   "execution_count": 41,
   "metadata": {},
   "outputs": [
    {
     "name": "stdout",
     "output_type": "stream",
     "text": [
      "Hassan\n",
      "Hassan\n",
      "Hassan\n"
     ]
    }
   ],
   "source": [
    "# you can assign the same value to multiple variables in one line\n",
    "a=b=c = \"Hassan\"\n",
    "print(a)\n",
    "print(b)\n",
    "print(c)"
   ]
  },
  {
   "cell_type": "markdown",
   "metadata": {},
   "source": [
    "### Updating the value stored in one valriable"
   ]
  },
  {
   "cell_type": "code",
   "execution_count": 42,
   "metadata": {},
   "outputs": [
    {
     "name": "stdout",
     "output_type": "stream",
     "text": [
      "25\n"
     ]
    }
   ],
   "source": [
    "x = 15\n",
    "x += 10 # this is the same as 'x = x + 10'\n",
    "print(x)"
   ]
  },
  {
   "cell_type": "markdown",
   "metadata": {},
   "source": [
    "### Built in Data Types"
   ]
  },
  {
   "cell_type": "markdown",
   "metadata": {},
   "source": [
    "### Finding the type of value"
   ]
  },
  {
   "cell_type": "code",
   "execution_count": 44,
   "metadata": {},
   "outputs": [
    {
     "name": "stdout",
     "output_type": "stream",
     "text": [
      "<class 'str'>\n"
     ]
    }
   ],
   "source": [
    "\"\"\"\n",
    "Variables can store data of different types, and different types can do different things.\n",
    "\n",
    "Python has the following data types built-in by default, in these categories\n",
    "\"\"\"\n",
    "#Text Datatype: String (str) \n",
    "a = \"Hassan\"\n",
    "print(type(a))"
   ]
  },
  {
   "cell_type": "code",
   "execution_count": 45,
   "metadata": {},
   "outputs": [
    {
     "name": "stdout",
     "output_type": "stream",
     "text": [
      "<class 'int'>\n",
      "<class 'float'>\n",
      "<class 'complex'>\n"
     ]
    }
   ],
   "source": [
    "#Numeric Datatype: Integer(int) , Float(float)\n",
    "b = 30\n",
    "c = 30.5\n",
    "d = 3j\n",
    "print(type(b))\n",
    "print(type(c))\n",
    "print(type(d))"
   ]
  },
  {
   "cell_type": "code",
   "execution_count": 46,
   "metadata": {},
   "outputs": [
    {
     "name": "stdout",
     "output_type": "stream",
     "text": [
      "<class 'list'>\n",
      "<class 'tuple'>\n"
     ]
    }
   ],
   "source": [
    "#Sequence Datatypes: List , Tuple\n",
    "i = [\"Orange\" , \"Apple\" , \"Banana\"]\n",
    "print(type(i))\n",
    "j = (\"Black\" , \"White\" , \"Blue\")\n",
    "print(type(j))"
   ]
  },
  {
   "cell_type": "code",
   "execution_count": null,
   "metadata": {},
   "outputs": [],
   "source": [
    "#Mapping Datatype: Dictionaries(dict)\n",
    "my_var = {\n",
    "   \"Brand\": \"Apple\",\n",
    "   \"Model\": \"iphone 12\",\n",
    "   \"year\": 2020\n",
    "}\n",
    "print(type(my_var))"
   ]
  },
  {
   "cell_type": "code",
   "execution_count": 48,
   "metadata": {},
   "outputs": [
    {
     "name": "stdout",
     "output_type": "stream",
     "text": [
      "<class 'set'>\n"
     ]
    }
   ],
   "source": [
    "#Set Datatypes: Sets(set)\n",
    "x = {\"Samsung\" , \"Apple\" , \"Nokia\"}\n",
    "print(type(x))"
   ]
  },
  {
   "cell_type": "code",
   "execution_count": 47,
   "metadata": {},
   "outputs": [
    {
     "name": "stdout",
     "output_type": "stream",
     "text": [
      "<class 'bool'>\n"
     ]
    }
   ],
   "source": [
    "#Boolean Datatype: Boolean(bool)\n",
    "y = 10\n",
    "z = 15\n",
    "p = y > z\n",
    "print(type(p))     "
   ]
  },
  {
   "cell_type": "markdown",
   "metadata": {},
   "source": [
    "### Converting & Casting between type of variables"
   ]
  },
  {
   "cell_type": "code",
   "execution_count": 49,
   "metadata": {},
   "outputs": [],
   "source": [
    "x = 15    # int\n",
    "y = 35.6e10  # float\n",
    "j=32+52j"
   ]
  },
  {
   "cell_type": "code",
   "execution_count": 58,
   "metadata": {},
   "outputs": [
    {
     "name": "stdout",
     "output_type": "stream",
     "text": [
      "15.0\n",
      "<class 'float'>\n"
     ]
    }
   ],
   "source": [
    "#convert from int to float:\n",
    "a = float(x)\n",
    "print(a)\n",
    "print(type(a))"
   ]
  },
  {
   "cell_type": "code",
   "execution_count": 60,
   "metadata": {},
   "outputs": [
    {
     "name": "stdout",
     "output_type": "stream",
     "text": [
      "356000000000\n",
      "<class 'int'>\n"
     ]
    }
   ],
   "source": [
    "#convert from float to int:\n",
    "b = int(y)\n",
    "print(b)\n",
    "print(type(b))"
   ]
  },
  {
   "cell_type": "code",
   "execution_count": 59,
   "metadata": {},
   "outputs": [
    {
     "name": "stdout",
     "output_type": "stream",
     "text": [
      "(15+0j)\n",
      "<class 'complex'>\n"
     ]
    }
   ],
   "source": [
    "#convert from int to complex:\n",
    "c = complex(x)\n",
    "print(c)\n",
    "print(type(c))"
   ]
  },
  {
   "cell_type": "code",
   "execution_count": 63,
   "metadata": {},
   "outputs": [
    {
     "name": "stdout",
     "output_type": "stream",
     "text": [
      "<class 'str'>\n",
      "<class 'str'>\n"
     ]
    }
   ],
   "source": [
    "#convert from str to int\n",
    "d = str(x)\n",
    "print(type(d))\n",
    "\n",
    "#convert from str to float\n",
    "e = str(y)\n",
    "print(type(e))"
   ]
  },
  {
   "cell_type": "code",
   "execution_count": 64,
   "metadata": {},
   "outputs": [
    {
     "name": "stdout",
     "output_type": "stream",
     "text": [
      "32.0\n",
      "52.0\n"
     ]
    }
   ],
   "source": [
    "i = complex(j).real\n",
    "k=complex(j).imag\n",
    "print(i)\n",
    "print(k)"
   ]
  },
  {
   "cell_type": "code",
   "execution_count": 3,
   "metadata": {},
   "outputs": [
    {
     "data": {
      "text/plain": [
       "5"
      ]
     },
     "execution_count": 3,
     "metadata": {},
     "output_type": "execute_result"
    }
   ],
   "source": [
    "# Round Command\n",
    "round(4.85)"
   ]
  },
  {
   "cell_type": "code",
   "execution_count": 65,
   "metadata": {},
   "outputs": [
    {
     "data": {
      "text/plain": [
       "2"
      ]
     },
     "execution_count": 65,
     "metadata": {},
     "output_type": "execute_result"
    }
   ],
   "source": [
    "round(2.5)"
   ]
  },
  {
   "cell_type": "code",
   "execution_count": 66,
   "metadata": {},
   "outputs": [
    {
     "data": {
      "text/plain": [
       "3"
      ]
     },
     "execution_count": 66,
     "metadata": {},
     "output_type": "execute_result"
    }
   ],
   "source": [
    "round(2.51)"
   ]
  },
  {
   "cell_type": "code",
   "execution_count": 67,
   "metadata": {},
   "outputs": [
    {
     "data": {
      "text/plain": [
       "4"
      ]
     },
     "execution_count": 67,
     "metadata": {},
     "output_type": "execute_result"
    }
   ],
   "source": [
    "import math as mt\n",
    "mt.floor(4.85)"
   ]
  },
  {
   "cell_type": "code",
   "execution_count": 68,
   "metadata": {},
   "outputs": [
    {
     "name": "stdout",
     "output_type": "stream",
     "text": [
      "mt.floor(-23.11) :  -24\n",
      "mt.floor(300.16) :  300\n",
      "mt.floor(300.72) :  300\n"
     ]
    }
   ],
   "source": [
    "# prints the ceil using floor() method \n",
    "print(\"mt.floor(-23.11) : \", mt.floor(-23.11))\n",
    "print (\"mt.floor(300.16) : \", mt.floor(300.16)) \n",
    "print (\"mt.floor(300.72) : \", mt.floor(300.72))"
   ]
  },
  {
   "cell_type": "code",
   "execution_count": 69,
   "metadata": {},
   "outputs": [
    {
     "data": {
      "text/plain": [
       "5"
      ]
     },
     "execution_count": 69,
     "metadata": {},
     "output_type": "execute_result"
    }
   ],
   "source": [
    "mt.ceil(4.85)"
   ]
  },
  {
   "cell_type": "code",
   "execution_count": 70,
   "metadata": {},
   "outputs": [
    {
     "name": "stdout",
     "output_type": "stream",
     "text": [
      "mt.ceil(-23.11) :  -23\n",
      "mt.ceil(300.16) :  301\n",
      "mt.ceil(300.72) :  301\n"
     ]
    }
   ],
   "source": [
    "# prints the ceil using ceil() method \n",
    "print (\"mt.ceil(-23.11) : \", mt.ceil(-23.11) )\n",
    "print( \"mt.ceil(300.16) : \", mt.ceil(300.16) )\n",
    "print (\"mt.ceil(300.72) : \", mt.ceil(300.72) )"
   ]
  },
  {
   "cell_type": "markdown",
   "metadata": {},
   "source": [
    "# Strings"
   ]
  },
  {
   "cell_type": "markdown",
   "metadata": {},
   "source": [
    "1) Like many other popular programming languages, strings in Python are arrays of bytes representing unicode characters.\n",
    "\n",
    "2) However, Python does not have a character data type, a single character is simply a string with a length of 1.\n",
    "\n",
    "3) Square brackets can be used to access elements of the string"
   ]
  },
  {
   "cell_type": "code",
   "execution_count": 71,
   "metadata": {},
   "outputs": [
    {
     "name": "stdout",
     "output_type": "stream",
     "text": [
      "H\n",
      "a\n",
      "12\n"
     ]
    }
   ],
   "source": [
    "s = \"Hassan Ahmed\"\n",
    "print(s[0])\n",
    "print(s[1])\n",
    "\n",
    "#string length\n",
    "print(len(s))"
   ]
  },
  {
   "cell_type": "code",
   "execution_count": 72,
   "metadata": {},
   "outputs": [
    {
     "name": "stdout",
     "output_type": "stream",
     "text": [
      "GoodLuck\n",
      "Good Luck\n"
     ]
    }
   ],
   "source": [
    "#string concatenation\n",
    "x = \"Good\"\n",
    "y = \"Luck\"\n",
    "z = x + y\n",
    "print(z)\n",
    "ab = x +\" \"+y\n",
    "print(ab)"
   ]
  },
  {
   "cell_type": "code",
   "execution_count": 73,
   "metadata": {},
   "outputs": [
    {
     "name": "stdout",
     "output_type": "stream",
     "text": [
      "True\n",
      "<class 'bool'>\n"
     ]
    }
   ],
   "source": [
    "#String Checking\n",
    "quote = \"Two things are infinite: the universe and human stupidity; and I'm not sure about the universe.\"\n",
    "c = \"human\" in quote\n",
    "print(c)\n",
    "print(type(c))"
   ]
  },
  {
   "cell_type": "code",
   "execution_count": 74,
   "metadata": {},
   "outputs": [
    {
     "name": "stdout",
     "output_type": "stream",
     "text": [
      "Apple iPhone 12 Pro Max's lowest price in Pakistan is Rs. 264999\n"
     ]
    }
   ],
   "source": [
    "#String Format\n",
    "price = 264999\n",
    "txt = \"Apple iPhone 12 Pro Max's lowest price in Pakistan is Rs. {}\" \n",
    "print(txt.format(price))"
   ]
  },
  {
   "cell_type": "code",
   "execution_count": 78,
   "metadata": {},
   "outputs": [
    {
     "name": "stdout",
     "output_type": "stream",
     "text": [
      "if you don't take 'risks', you can't create a future\n"
     ]
    }
   ],
   "source": [
    "#Escape Character\n",
    "i = \"if you don't take \\'risks\\', you can't create a future\"\n",
    "print(i)"
   ]
  },
  {
   "cell_type": "code",
   "execution_count": 79,
   "metadata": {},
   "outputs": [
    {
     "name": "stdout",
     "output_type": "stream",
     "text": [
      "if you don't take risks,\n",
      "you can't create a future\n"
     ]
    }
   ],
   "source": [
    "j = \"if you don't take risks,\\nyou can't create a future\"\n",
    "print(j)"
   ]
  },
  {
   "cell_type": "code",
   "execution_count": 80,
   "metadata": {},
   "outputs": [
    {
     "name": "stdout",
     "output_type": "stream",
     "text": [
      "if you don't take risks,\t you can't create a future\n"
     ]
    }
   ],
   "source": [
    "k = \"if you don't take risks,\\t you can't create a future\"\n",
    "print(k)"
   ]
  },
  {
   "cell_type": "code",
   "execution_count": 81,
   "metadata": {},
   "outputs": [
    {
     "name": "stdout",
     "output_type": "stream",
     "text": [
      " Hassan Ahmed \n",
      "Hassan Ahmed\n",
      " hassan ahmed \n",
      " HASSAN AHMED \n",
      " Hassan Ahmid \n",
      "[' Hassan Ahmed ']\n"
     ]
    }
   ],
   "source": [
    "a = \" Hassan Ahmed \"\n",
    "\n",
    "#String Method\n",
    "print(a)\n",
    "print(a.strip())\n",
    "print(a.lower())\n",
    "print(a.upper())\n",
    "print(a.replace(\"e\", \"i\"))\n",
    "print(a.split(\",\"))"
   ]
  },
  {
   "cell_type": "markdown",
   "metadata": {},
   "source": [
    "# List, Tuple & Dictionaries"
   ]
  },
  {
   "cell_type": "code",
   "execution_count": 124,
   "metadata": {},
   "outputs": [
    {
     "name": "stdout",
     "output_type": "stream",
     "text": [
      "['Newton', 'Einstein', 'Tesla']\n",
      "('Nepolean', 'Hitler', 'Genghis Khan')\n",
      "{'William Shakespeare': 'Poet', 'Leonardo da Vinci': 'Painter', 'Socrates': 'Philosopher'}\n",
      "{'female', 'male', 'f', 'm'}\n"
     ]
    }
   ],
   "source": [
    "x = 15\n",
    "y = 15.5\n",
    "z = \"Nabeel\"\n",
    "mylist = [\"Newton\",\"Einstein\",\"Tesla\"]\n",
    "mylist2 =[\"Ibn al-Haytham\",\"Al-Khwarzmi\",\"Ibn-Sina\"]\n",
    "my_tuple = (\"Nepolean\",\"Hitler\",\"Genghis Khan\")\n",
    "_my_dict = {\"William Shakespeare\": \"Poet\",\n",
    "            \"Leonardo da Vinci\": \"Painter\",\n",
    "            \"Socrates\": \"Philosopher\"\n",
    "            }\n",
    "my_set=set(['male','female','male','f','m','f'])\n",
    "print(mylist)\n",
    "print(my_tuple)\n",
    "print(_my_dict)\n",
    "print(my_set)"
   ]
  },
  {
   "cell_type": "code",
   "execution_count": 84,
   "metadata": {},
   "outputs": [
    {
     "name": "stdout",
     "output_type": "stream",
     "text": [
      "[['Newton', 'Einstein', 'Tesla'], ['Ibn al-Haytham', 'Al-Khwarzmi', 'Ibn-Sina']]\n",
      "['Newton', 'Einstein', 'Tesla', 'Ibn al-Haytham', 'Al-Khwarzmi', 'Ibn-Sina']\n"
     ]
    }
   ],
   "source": [
    "#Creating list of lists\n",
    "data = [mylist,mylist2]\n",
    "print(data)\n",
    "\n",
    "#Join two lists\n",
    "data2 = mylist + mylist2\n",
    "print(data2)"
   ]
  },
  {
   "cell_type": "code",
   "execution_count": 85,
   "metadata": {},
   "outputs": [
    {
     "name": "stdout",
     "output_type": "stream",
     "text": [
      "Einstein\n",
      "Genghis Khan\n",
      "Philosopher\n"
     ]
    }
   ],
   "source": [
    "#Indexing\n",
    "print(mylist[1]) # access the list items by referring to the index number\n",
    "print(my_tuple[2])# access the tuple items by referring to the index number\n",
    "print(_my_dict[\"Socrates\"])# access the dictionary items by referring to the index number"
   ]
  },
  {
   "cell_type": "code",
   "execution_count": 86,
   "metadata": {},
   "outputs": [
    {
     "name": "stdout",
     "output_type": "stream",
     "text": [
      "Tesla\n",
      "Hitler\n"
     ]
    }
   ],
   "source": [
    "#Negative Indexing\n",
    "print(mylist[-1]) # access the list items by referring to the index number\n",
    "print(my_tuple[-2])# access the tuple items by referring to the index number"
   ]
  },
  {
   "cell_type": "code",
   "execution_count": 87,
   "metadata": {},
   "outputs": [
    {
     "name": "stdout",
     "output_type": "stream",
     "text": [
      "['Tesla', 'Ibn al-Haytham', 'Al-Khwarzmi']\n",
      "['Newton', 'Einstein', 'Tesla']\n",
      "['Al-Khwarzmi', 'Ibn-Sina']\n",
      "['Einstein', 'Tesla']\n"
     ]
    }
   ],
   "source": [
    "#Slicing or Range of Indexes\n",
    "print(data2[2:5])\n",
    "print(data2[:3]) #This example returns the items from the beginning to \"Ibn al-Haytham\"\n",
    "print(data2[4:]) #This example returns the items from \"Ibn-Sina\" and to the end\n",
    "print(data2[-5:-3])#This example returns the items from index -5 (included) to index -3 (excluded)"
   ]
  },
  {
   "cell_type": "code",
   "execution_count": 88,
   "metadata": {},
   "outputs": [
    {
     "name": "stdout",
     "output_type": "stream",
     "text": [
      "6\n",
      "3\n",
      "3\n"
     ]
    }
   ],
   "source": [
    "#length\n",
    "print(len(data2))\n",
    "print(len(my_tuple))\n",
    "print(len(_my_dict))"
   ]
  },
  {
   "cell_type": "code",
   "execution_count": 89,
   "metadata": {},
   "outputs": [
    {
     "name": "stdout",
     "output_type": "stream",
     "text": [
      "['Newton', 'Einstein', 'Tesla', 'Ibn al-Haytham', 'Al-Khwarzmi', 'Ibn-Sina', 'Aristotle']\n",
      "['Newton', 'Aristotle', 'Einstein', 'Tesla']\n"
     ]
    }
   ],
   "source": [
    "#Add items in list\n",
    "data2.append(\"Aristotle\") \n",
    "mylist.insert(1,\"Aristotle\")#add an item at the specified index\n",
    "print(data2)\n",
    "print(mylist)"
   ]
  },
  {
   "cell_type": "code",
   "execution_count": 90,
   "metadata": {},
   "outputs": [
    {
     "name": "stdout",
     "output_type": "stream",
     "text": [
      "{'William Shakespeare': 'Poet', 'Leonardo da Vinci': 'Painter', 'Socrates': 'Philosopher', 'Marco Polo': 'Explorer'}\n"
     ]
    }
   ],
   "source": [
    "#Add items in tuple\n",
    "#Once a tuple is created, you cannot add items to it. Tuples are unchangeable.\n",
    "#my_tuple[3] = \"Alexander\"\n",
    "#print(my_tuple)\n",
    "\n",
    "# Add items in Dictionary\n",
    "_my_dict[\"Marco Polo\"] = \"Explorer\"\n",
    "print(_my_dict)"
   ]
  },
  {
   "cell_type": "code",
   "execution_count": 91,
   "metadata": {},
   "outputs": [
    {
     "name": "stdout",
     "output_type": "stream",
     "text": [
      "{'William Shakespeare': 'Poet', 'Leonardo da Vinci': 'Painter', 'Socrates': 'Philosopher', 'Marco Polo': 'Traveller'}\n"
     ]
    }
   ],
   "source": [
    "_my_dict[\"Marco Polo\"] = \"Traveller\"\n",
    "print(_my_dict) # Change Value in Dictonary"
   ]
  },
  {
   "cell_type": "code",
   "execution_count": 92,
   "metadata": {},
   "outputs": [
    {
     "name": "stdout",
     "output_type": "stream",
     "text": [
      "['Aristotle', 'Einstein', 'Tesla']\n"
     ]
    }
   ],
   "source": [
    "#Remove Items in List\n",
    "mylist.remove(\"Newton\")\n",
    "print(mylist) #The remove() method removes the specified item"
   ]
  },
  {
   "cell_type": "code",
   "execution_count": 93,
   "metadata": {},
   "outputs": [
    {
     "name": "stdout",
     "output_type": "stream",
     "text": [
      "['Newton', 'Einstein', 'Tesla', 'Ibn al-Haytham', 'Al-Khwarzmi', 'Ibn-Sina']\n"
     ]
    }
   ],
   "source": [
    "data2.pop()\n",
    "print(data2) \n",
    "#The pop() method removes the specified index, (or the last item if index is not specified)"
   ]
  },
  {
   "cell_type": "code",
   "execution_count": 94,
   "metadata": {},
   "outputs": [
    {
     "name": "stdout",
     "output_type": "stream",
     "text": [
      "[]\n"
     ]
    }
   ],
   "source": [
    "mylist.clear()\n",
    "print(mylist) #The clear() method empties the list"
   ]
  },
  {
   "cell_type": "code",
   "execution_count": 95,
   "metadata": {},
   "outputs": [
    {
     "name": "stdout",
     "output_type": "stream",
     "text": [
      "{'William Shakespeare': 'Poet', 'Leonardo da Vinci': 'Painter', 'Marco Polo': 'Traveller'}\n"
     ]
    }
   ],
   "source": [
    "#Remove Items in Dictonary\n",
    "_my_dict.pop(\"Socrates\")\n",
    "print(_my_dict)"
   ]
  },
  {
   "cell_type": "code",
   "execution_count": 96,
   "metadata": {},
   "outputs": [
    {
     "name": "stdout",
     "output_type": "stream",
     "text": [
      "{'William Shakespeare': 'Poet', 'Leonardo da Vinci': 'Painter'}\n"
     ]
    }
   ],
   "source": [
    "_my_dict.popitem()\n",
    "print(_my_dict)"
   ]
  },
  {
   "cell_type": "code",
   "execution_count": 97,
   "metadata": {},
   "outputs": [
    {
     "name": "stdout",
     "output_type": "stream",
     "text": [
      "{}\n"
     ]
    }
   ],
   "source": [
    "_my_dict.clear()\n",
    "print(_my_dict)"
   ]
  },
  {
   "cell_type": "code",
   "execution_count": 98,
   "metadata": {},
   "outputs": [],
   "source": [
    "new_dict= _my_dict.copy()"
   ]
  },
  {
   "cell_type": "code",
   "execution_count": 99,
   "metadata": {},
   "outputs": [],
   "source": [
    "del new_dict"
   ]
  },
  {
   "cell_type": "code",
   "execution_count": 100,
   "metadata": {},
   "outputs": [
    {
     "name": "stdout",
     "output_type": "stream",
     "text": [
      "{1: {'name': 'Noman', 'age': '22', 'sex': 'Male'}, 2: {'name': 'Rubab', 'age': '24', 'sex': 'Female'}}\n"
     ]
    }
   ],
   "source": [
    "#Nested Dictonaries\n",
    "people = {1: {'name': 'Noman', 'age': '22', 'sex': 'Male'},\n",
    "          2: {'name': 'Rubab', 'age': '24', 'sex': 'Female'}}\n",
    "\n",
    "print(people)"
   ]
  },
  {
   "cell_type": "code",
   "execution_count": 101,
   "metadata": {},
   "outputs": [],
   "source": [
    "people = {1: {'name': 'Noman', 'age': '27', 'sex': 'Male'},\n",
    "          2: {'name': 'Rubab', 'age': '22', 'sex': 'Female'}}"
   ]
  },
  {
   "cell_type": "code",
   "execution_count": 102,
   "metadata": {},
   "outputs": [
    {
     "name": "stdout",
     "output_type": "stream",
     "text": [
      "Noman\n",
      "27\n",
      "Male\n"
     ]
    }
   ],
   "source": [
    "print(people[1]['name'])\n",
    "print(people[1]['age'])\n",
    "print(people[1]['sex'])"
   ]
  },
  {
   "cell_type": "code",
   "execution_count": 103,
   "metadata": {},
   "outputs": [
    {
     "name": "stdout",
     "output_type": "stream",
     "text": [
      "{'name': 'Peter', 'age': '29', 'sex': 'Male', 'married': 'Yes'}\n"
     ]
    }
   ],
   "source": [
    "people = {1: {'name': 'Noman', 'age': '27', 'sex': 'Male'},\n",
    "          2: {'name': 'Rubab', 'age': '22', 'sex': 'Female'}}\n",
    "\n",
    "people[3] = {'name': 'Peter', 'age': '29', 'sex': 'Male', 'married': 'Yes'}\n",
    "print(people[3])"
   ]
  },
  {
   "cell_type": "code",
   "execution_count": 104,
   "metadata": {},
   "outputs": [
    {
     "name": "stdout",
     "output_type": "stream",
     "text": [
      "{1: {'name': 'Noman', 'age': '27', 'sex': 'Male'}, 2: {'name': 'Rubab', 'age': '22', 'sex': 'Female'}, 3: {'name': 'Peter', 'age': '29', 'sex': 'Male', 'married': 'Yes'}}\n"
     ]
    }
   ],
   "source": [
    "print(people)"
   ]
  },
  {
   "cell_type": "code",
   "execution_count": 105,
   "metadata": {},
   "outputs": [
    {
     "name": "stdout",
     "output_type": "stream",
     "text": [
      "['Newton', 'Einstein', 'Tesla', 'Ibn al-Haytham', 'Al-Khwarzmi', 'Ibn-Sina']\n"
     ]
    }
   ],
   "source": [
    "print(data2)"
   ]
  },
  {
   "cell_type": "code",
   "execution_count": 106,
   "metadata": {},
   "outputs": [
    {
     "name": "stdout",
     "output_type": "stream",
     "text": [
      "['Al-Khwarzmi', 'Einstein', 'Ibn al-Haytham', 'Ibn-Sina', 'Newton', 'Tesla']\n"
     ]
    }
   ],
   "source": [
    "data3=data2.copy()\n",
    "\n",
    "data3.sort()\n",
    "print(data3) #Sort the list alphabetically"
   ]
  },
  {
   "cell_type": "code",
   "execution_count": 107,
   "metadata": {},
   "outputs": [
    {
     "name": "stdout",
     "output_type": "stream",
     "text": [
      "['Tesla', 'Newton', 'Ibn-Sina', 'Ibn al-Haytham', 'Einstein', 'Al-Khwarzmi']\n"
     ]
    }
   ],
   "source": [
    "data3.sort(reverse = True)\n",
    "print(data3) #Sort the list descendeing"
   ]
  },
  {
   "cell_type": "code",
   "execution_count": 108,
   "metadata": {},
   "outputs": [
    {
     "name": "stdout",
     "output_type": "stream",
     "text": [
      "['Al-Khwarzmi', 'Einstein', 'Ibn al-Haytham', 'Ibn-Sina', 'Newton', 'Tesla']\n"
     ]
    }
   ],
   "source": [
    "data3.reverse()\n",
    "print(data3) #Reverse the order of the list items"
   ]
  },
  {
   "cell_type": "markdown",
   "metadata": {},
   "source": [
    "# Python Conditional Statements"
   ]
  },
  {
   "cell_type": "code",
   "execution_count": 109,
   "metadata": {},
   "outputs": [
    {
     "name": "stdout",
     "output_type": "stream",
     "text": [
      "What is the temperature? 34\n",
      "Wear long pants.\n",
      "Get some exercise outside.\n"
     ]
    }
   ],
   "source": [
    "#else Statement\n",
    "temperature = float(input('What is the temperature? '))\n",
    "if temperature > 70:\n",
    "    print('Wear shorts.')\n",
    "else:\n",
    "    print('Wear long pants.')\n",
    "    print('Get some exercise outside.')"
   ]
  },
  {
   "cell_type": "code",
   "execution_count": 110,
   "metadata": {},
   "outputs": [
    {
     "name": "stdout",
     "output_type": "stream",
     "text": [
      "Enter any number between 0 and 10: 5\n",
      "Number is smaller than or equals to 5\n"
     ]
    }
   ],
   "source": [
    "#elif Statement\n",
    "num = int(input('Enter any number between 0 and 10: '))\n",
    "if (num == 0):\n",
    "    print(\"Number is Zero\")\n",
    " \n",
    "elif (num > 5):\n",
    "    print(\"Number is greater than 5\")\n",
    " \n",
    "else:\n",
    "    print(\"Number is smaller than or equals to 5\")\n"
   ]
  },
  {
   "cell_type": "code",
   "execution_count": 111,
   "metadata": {},
   "outputs": [
    {
     "name": "stdout",
     "output_type": "stream",
     "text": [
      "Enter any number between -10 and 10: 5\n",
      "Number is positive\n"
     ]
    }
   ],
   "source": [
    "#nested if else statement\n",
    "num = int(input('Enter any number between -10 and 10: '))\n",
    "if (num != 0):\n",
    "          if (num > 0):\n",
    "                      print(\"Number is positive\")\n",
    "          else:\n",
    "                      print(\"Number is negative\")\n",
    "else:\n",
    "           print(\"Number is Zero\")"
   ]
  },
  {
   "cell_type": "code",
   "execution_count": 112,
   "metadata": {},
   "outputs": [
    {
     "name": "stdout",
     "output_type": "stream",
     "text": [
      "Enter marks out of 100: 98\n",
      "Passed with First division with distinction\n"
     ]
    }
   ],
   "source": [
    "#elif Ladder\n",
    "my_marks = int(input('Enter marks out of 100: '))\n",
    "if (my_marks < 35):\n",
    "    print(\"Sorry!!!, You are failed in the exam\")\n",
    "elif(my_marks < 60  and my_marks > 35): \n",
    "    print(\"Passed with Second division\") \n",
    "elif(my_marks > 60 and my_marks < 85):\n",
    "    print(\"Passed with First division\")\n",
    "else:\n",
    "    print(\"Passed with First division with distinction\")"
   ]
  },
  {
   "cell_type": "markdown",
   "metadata": {},
   "source": [
    "# Loops"
   ]
  },
  {
   "cell_type": "code",
   "execution_count": 53,
   "metadata": {},
   "outputs": [
    {
     "name": "stdout",
     "output_type": "stream",
     "text": [
      "0\n",
      "1\n",
      "2\n",
      "3\n",
      "4\n",
      "10\n"
     ]
    }
   ],
   "source": [
    "#while loop\n",
    "number = 5\n",
    "sum = 0\n",
    "i = 0\n",
    " \n",
    "while (i<number):\n",
    "    print(i)\n",
    "    sum = sum + i\n",
    "    i = i+1\n",
    " \n",
    "print(sum)"
   ]
  },
  {
   "cell_type": "code",
   "execution_count": 57,
   "metadata": {},
   "outputs": [
    {
     "name": "stdout",
     "output_type": "stream",
     "text": [
      "1\n",
      "2\n",
      "3\n"
     ]
    }
   ],
   "source": [
    "#break statement\n",
    "i = 1\n",
    "while i < 6:\n",
    "  print(i)\n",
    "  if i == 3:\n",
    "    break\n",
    "  i += 1"
   ]
  },
  {
   "cell_type": "code",
   "execution_count": 58,
   "metadata": {},
   "outputs": [
    {
     "name": "stdout",
     "output_type": "stream",
     "text": [
      "1\n",
      "2\n",
      "4\n",
      "5\n",
      "6\n"
     ]
    }
   ],
   "source": [
    "#continue statement\n",
    "i = 0\n",
    "while i < 6:\n",
    "  i += 1\n",
    "  if i == 3:\n",
    "    continue\n",
    "  print(i)"
   ]
  },
  {
   "cell_type": "code",
   "execution_count": 61,
   "metadata": {},
   "outputs": [
    {
     "name": "stdout",
     "output_type": "stream",
     "text": [
      "1\n",
      "2\n",
      "3\n",
      "4\n",
      "5\n",
      "i is no longer less than 6\n"
     ]
    }
   ],
   "source": [
    "#else_clause\n",
    "i = 1\n",
    "while i < 6:\n",
    "  print(i)\n",
    "  i += 1\n",
    "else:\n",
    "  print(\"i is no longer less than 6\")"
   ]
  },
  {
   "cell_type": "markdown",
   "metadata": {},
   "source": [
    "# For Loop"
   ]
  },
  {
   "cell_type": "code",
   "execution_count": 65,
   "metadata": {},
   "outputs": [
    {
     "name": "stdout",
     "output_type": "stream",
     "text": [
      "[1, 4, 16, 36, 121, 400]\n"
     ]
    }
   ],
   "source": [
    "numbers = [1, 2, 4, 6, 11, 20]\n",
    "\n",
    "# variable to store the square of each num temporary\n",
    "sq = []\n",
    "\n",
    "# iterating over the given list\n",
    "for val in numbers:\n",
    "    # calculating square of each number\n",
    "    sq.append(val * val)\n",
    "    # displaying the squares\n",
    "print(sq)"
   ]
  },
  {
   "cell_type": "code",
   "execution_count": 68,
   "metadata": {},
   "outputs": [
    {
     "data": {
      "text/plain": [
       "[0, 1, 2, 3, 4, 5, 6, 7, 8, 9, 10]"
      ]
     },
     "execution_count": 68,
     "metadata": {},
     "output_type": "execute_result"
    }
   ],
   "source": [
    "list(range(11))"
   ]
  },
  {
   "cell_type": "code",
   "execution_count": 67,
   "metadata": {},
   "outputs": [
    {
     "name": "stdout",
     "output_type": "stream",
     "text": [
      "7  * 0 = 0\n",
      "7  * 1 = 7\n",
      "7  * 2 = 14\n",
      "7  * 3 = 21\n",
      "7  * 4 = 28\n",
      "7  * 5 = 35\n",
      "7  * 6 = 42\n",
      "7  * 7 = 49\n",
      "7  * 8 = 56\n",
      "7  * 9 = 63\n",
      "7  * 10 = 70\n",
      "8  * 0 = 0\n",
      "8  * 1 = 8\n",
      "8  * 2 = 16\n",
      "8  * 3 = 24\n",
      "8  * 4 = 32\n",
      "8  * 5 = 40\n",
      "8  * 6 = 48\n",
      "8  * 7 = 56\n",
      "8  * 8 = 64\n",
      "8  * 9 = 72\n",
      "8  * 10 = 80\n"
     ]
    }
   ],
   "source": [
    "### Practise # 2\n",
    "for j in range(7,9):\n",
    "    for i in range(11):\n",
    "        print(j,' *',i,'=', j*i)"
   ]
  },
  {
   "cell_type": "code",
   "execution_count": null,
   "metadata": {},
   "outputs": [],
   "source": [
    "#Range() Function\n",
    "\"\"\"\n",
    "We can generate a sequence of numbers using range() function. range(10) will generate numbers from 0 to 9 (10 numbers).\n",
    "We can also define the start, stop and step size as range(start, stop,step_size). step_size defaults to 1 if not provided.\n",
    "\"\"\"\n",
    "\n",
    "print(range(10)) \n",
    "\n",
    "print(list(range(10)))\n",
    "\n",
    "print(list(range(2, 8)))\n",
    "\n",
    "print(list(range(2, 20, 3)))\n",
    "\n",
    "#Python for loop example using range() function\n",
    "for i in range(1,10):\n",
    "    print(i) "
   ]
  },
  {
   "cell_type": "code",
   "execution_count": 69,
   "metadata": {},
   "outputs": [
    {
     "name": "stdout",
     "output_type": "stream",
     "text": [
      "I like p\n",
      "I like o\n",
      "I like p\n",
      "I like r\n",
      "I like o\n",
      "I like c\n",
      "I like k\n",
      "I like j\n",
      "I like a\n",
      "I like z\n",
      "I like z\n"
     ]
    }
   ],
   "source": [
    "#Python Nested for loop example using range() function\n",
    "\"\"\"\n",
    "We can use the range() function in for loops to iterate through a sequence of numbers. \n",
    "It can be combined with the len() function to iterate through a sequence using indexing. Here is an example.\n",
    "\"\"\"   \n",
    "genre = ['pop', 'rock', 'jazz']\n",
    "\n",
    "# iterate over the list using index\n",
    "for i in range(len(genre)):\n",
    "    for j in range(len(genre[i])):\n",
    "        print(\"I like\", genre[i][j])"
   ]
  },
  {
   "cell_type": "code",
   "execution_count": 119,
   "metadata": {},
   "outputs": [
    {
     "name": "stdout",
     "output_type": "stream",
     "text": [
      "55\n"
     ]
    }
   ],
   "source": [
    "\"\"\"\n",
    "This for...else statement can be used with the break keyword to run the else block only when the break keyword was not executed.\n",
    "Let's take an example\n",
    "\"\"\"\n",
    "student_name = 'Jules'\n",
    "\n",
    "marks = {'James': 90, 'Jules': 55, 'Arthur': 77}\n",
    "\n",
    "for student in marks:\n",
    "    if student == student_name:\n",
    "        print(marks[student])\n",
    "        break\n",
    "else:\n",
    "    print('No entry with that name found.')"
   ]
  },
  {
   "cell_type": "markdown",
   "metadata": {},
   "source": [
    "# Thanks"
   ]
  }
 ],
 "metadata": {
  "kernelspec": {
   "display_name": "Python 3",
   "language": "python",
   "name": "python3"
  },
  "language_info": {
   "codemirror_mode": {
    "name": "ipython",
    "version": 3
   },
   "file_extension": ".py",
   "mimetype": "text/x-python",
   "name": "python",
   "nbconvert_exporter": "python",
   "pygments_lexer": "ipython3",
   "version": "3.7.6"
  }
 },
 "nbformat": 4,
 "nbformat_minor": 4
}
