{
 "cells": [
  {
   "cell_type": "code",
   "execution_count": 1,
   "metadata": {},
   "outputs": [
    {
     "name": "stdout",
     "output_type": "stream",
     "text": [
      "Enter the year: 1800\n",
      "Enter the month: 4\n",
      "Non Leap Year\n",
      "There are 30 days in this month\n"
     ]
    }
   ],
   "source": [
    "nonLeapYearMonth = ['0', '31', '28', '31', '30', '31', '30', '31', '31', '30', '31', '30', '31']\n",
    "leapYearMonth = ['0', '31', '29', '31', '30', '31', '30', '31', '31', '30', '31', '30', '31']\n",
    "year = input('Enter the year: ')\n",
    "month = input('Enter the month: ')\n",
    "if int(year) % 4 == 0 and ((int(year) / 4) * 100) % 400 == 0:\n",
    "    print('Leap Year')\n",
    "    print('There are ' + leapYearMonth[int(month)] + ' days in this month')\n",
    "else:\n",
    "    print('Non Leap Year')\n",
    "    print('There are ' + nonLeapYearMonth[int(month)] + ' days in this month')"
   ]
  },
  {
   "cell_type": "code",
   "execution_count": null,
   "metadata": {},
   "outputs": [],
   "source": []
  },
  {
   "cell_type": "code",
   "execution_count": null,
   "metadata": {},
   "outputs": [],
   "source": []
  }
 ],
 "metadata": {
  "kernelspec": {
   "display_name": "Python 3",
   "language": "python",
   "name": "python3"
  },
  "language_info": {
   "codemirror_mode": {
    "name": "ipython",
    "version": 3
   },
   "file_extension": ".py",
   "mimetype": "text/x-python",
   "name": "python",
   "nbconvert_exporter": "python",
   "pygments_lexer": "ipython3",
   "version": "3.8.3"
  }
 },
 "nbformat": 4,
 "nbformat_minor": 4
}
