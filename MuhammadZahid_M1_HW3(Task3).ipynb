{
 "cells": [
  {
   "cell_type": "code",
   "execution_count": 2,
   "metadata": {},
   "outputs": [
    {
     "name": "stdout",
     "output_type": "stream",
     "text": [
      "Enter temperature: 34.7c\n",
      "Temperature in degee Fahrenheit is: \n",
      "94.46000000000001\n"
     ]
    }
   ],
   "source": [
    "temp = input(\"Enter temperature: \")\n",
    "if temp[-1] == 'f' or temp[-1] == 'F':\n",
    "    tempf = temp[:-1]\n",
    "    c = ((float(tempf) - 32) * 5) / 9\n",
    "    print('Temperature in degee Celsius is: ')\n",
    "    print(c)\n",
    "elif temp[-1] == 'c' or temp[-1] == 'C':\n",
    "    tempc = temp[:-1]\n",
    "    f = ((float(tempc) * 9) / 5) + 32\n",
    "    print('Temperature in degee Fahrenheit is: ')\n",
    "    print(f)"
   ]
  },
  {
   "cell_type": "code",
   "execution_count": null,
   "metadata": {},
   "outputs": [],
   "source": []
  }
 ],
 "metadata": {
  "kernelspec": {
   "display_name": "Python 3",
   "language": "python",
   "name": "python3"
  },
  "language_info": {
   "codemirror_mode": {
    "name": "ipython",
    "version": 3
   },
   "file_extension": ".py",
   "mimetype": "text/x-python",
   "name": "python",
   "nbconvert_exporter": "python",
   "pygments_lexer": "ipython3",
   "version": "3.8.3"
  }
 },
 "nbformat": 4,
 "nbformat_minor": 4
}
