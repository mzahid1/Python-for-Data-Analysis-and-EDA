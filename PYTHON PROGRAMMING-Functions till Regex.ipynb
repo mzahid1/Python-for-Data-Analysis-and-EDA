{
 "cells": [
  {
   "cell_type": "markdown",
   "metadata": {},
   "source": [
    "# Functions\n",
    "\n",
    "A function is a block of code which only runs when it is called.\n",
    "A function is allowing us to order our code, make it more readable, reuse it and save some time.\n",
    "You can pass data, known as parameters, into a function.\n",
    "A function can return data as a result.\n",
    "functions are a key way to define interfaces so programmers can share their code.\n"
   ]
  },
  {
   "cell_type": "code",
   "execution_count": 1,
   "metadata": {},
   "outputs": [
    {
     "name": "stdout",
     "output_type": "stream",
     "text": [
      "Program starts\n",
      "Hi Peter\n",
      "Nice to see you again!\n",
      "Enjoy our video!\n",
      "Hi Sarah\n",
      "Nice to see you again!\n",
      "Enjoy our video!\n",
      "Hi John\n",
      "Nice to see you again!\n",
      "Enjoy our video!\n"
     ]
    }
   ],
   "source": [
    "print(\"Program starts\")\n",
    "\n",
    "print(\"Hi Peter\")\n",
    "print(\"Nice to see you again!\")\n",
    "print(\"Enjoy our video!\") \n",
    "\n",
    "print(\"Hi Sarah\")\n",
    "print(\"Nice to see you again!\")\n",
    "print(\"Enjoy our video!\")\n",
    "\n",
    "print(\"Hi John\")\n",
    "print(\"Nice to see you again!\")\n",
    "print(\"Enjoy our video!\")"
   ]
  },
  {
   "cell_type": "code",
   "execution_count": 2,
   "metadata": {},
   "outputs": [
    {
     "name": "stdout",
     "output_type": "stream",
     "text": [
      "Program starts\n",
      "Hi Peter\n",
      "Nice to see you again!\n",
      "Enjoy our video!\n",
      "Hi Sarah\n",
      "Nice to see you again!\n",
      "Enjoy our video!\n",
      "Hi Dominque\n",
      "Nice to see you again!\n",
      "Enjoy our video!\n",
      "Hi Hassan\n",
      "Nice to see you again!\n",
      "Enjoy our video!\n",
      "Hi Mubeen\n",
      "Nice to see you again!\n",
      "Enjoy our video!\n",
      "Hi Nabeel\n",
      "Nice to see you again!\n",
      "Enjoy our video!\n"
     ]
    }
   ],
   "source": [
    "#by using function\n",
    "def greet(name): # define function\n",
    "    print(\"Hi \" + name) # argument\n",
    "    print(\"Nice to see you again!\")\n",
    "    print(\"Enjoy our video!\")\n",
    "\n",
    "print(\"Program starts\")\n",
    "\n",
    "greet(\"Peter\")      \n",
    "greet(\"Sarah\")      \n",
    "greet(\"Dominque\")\n",
    "greet(\"Hassan\")\n",
    "greet(\"Mubeen\")\n",
    "greet(\"Nabeel\")"
   ]
  },
  {
   "cell_type": "code",
   "execution_count": 6,
   "metadata": {},
   "outputs": [
    {
     "name": "stdout",
     "output_type": "stream",
     "text": [
      "10\n",
      "19\n"
     ]
    }
   ],
   "source": [
    "#keyword parameter & return value\n",
    "\n",
    "def sumsub(a, b, c=0, d=0):\n",
    "    return a - b + c - d\n",
    "\n",
    "\n",
    "z=12\n",
    "y=4\n",
    "print(sumsub(z, y))\n",
    "print(sumsub(42, 15, d=10))"
   ]
  },
  {
   "cell_type": "code",
   "execution_count": 8,
   "metadata": {},
   "outputs": [
    {
     "name": "stdout",
     "output_type": "stream",
     "text": [
      "Input a number to compute the factiorial : 5\n",
      "120\n"
     ]
    }
   ],
   "source": [
    "#factorial program\n",
    "def factorial(n):\n",
    "    if n == 0:\n",
    "        return 1\n",
    "    else:\n",
    "        return n * factorial(n-1)\n",
    "n=int(input(\"Input a number to compute the factiorial : \"))\n",
    "print(factorial(n))"
   ]
  },
  {
   "cell_type": "code",
   "execution_count": 10,
   "metadata": {},
   "outputs": [
    {
     "name": "stdout",
     "output_type": "stream",
     "text": [
      "[2, 4, 6, 8]\n"
     ]
    }
   ],
   "source": [
    "#even number_program\n",
    "def is_even_num(lista):\n",
    "    enum = []\n",
    "    for n in lista:\n",
    "        if n % 2 == 0:\n",
    "            enum.append(n)\n",
    "    return enum\n",
    "print(is_even_num([1, 2, 3, 4, 5, 6, 7, 8, 9]))"
   ]
  },
  {
   "cell_type": "code",
   "execution_count": null,
   "metadata": {},
   "outputs": [],
   "source": [
    "#Checking duplicates in a list\n",
    "def duplicate(x):\n",
    "    duplicate=[]\n",
    "    for i in range(len(x)):\n",
    "        k=i+1\n",
    "        for j in range(k,len(x)):\n",
    "            if x[i]==x[j] and x[i] not in duplicate:\n",
    "                duplicate.append(x[i])\n",
    "    return duplicate\n",
    "# Making a list and calling it in the above function\n",
    "li=[\"Hassan\",'Hassan', 'Ahmed', 'Khan', 'Niazi', 'Irshad', 'Bilal','Hassan',1,1,1,2,3,5,7,7,\"Bilal\"]\n",
    "print(\"Duplicated Values in a list are \",duplicate(li))"
   ]
  },
  {
   "cell_type": "markdown",
   "metadata": {},
   "source": [
    "# lambda function\n",
    "\"\"\"\n",
    "A lambda function is a small anonymous function.\n",
    "A lambda function can take any number of arguments, but can only have one expression.\n",
    "\"\"\""
   ]
  },
  {
   "cell_type": "code",
   "execution_count": 11,
   "metadata": {},
   "outputs": [
    {
     "data": {
      "text/plain": [
       "25"
      ]
     },
     "execution_count": 11,
     "metadata": {},
     "output_type": "execute_result"
    }
   ],
   "source": [
    "r = lambda a : a + 15\n",
    "r(10)\n",
    "#print(r(10))"
   ]
  },
  {
   "cell_type": "code",
   "execution_count": 15,
   "metadata": {},
   "outputs": [
    {
     "data": {
      "text/plain": [
       "16"
      ]
     },
     "execution_count": 15,
     "metadata": {},
     "output_type": "execute_result"
    }
   ],
   "source": [
    "power= lambda x, y : x ** y\n",
    "power(2,4)\n",
    "#print(product(12, 4))"
   ]
  },
  {
   "cell_type": "code",
   "execution_count": 36,
   "metadata": {},
   "outputs": [
    {
     "data": {
      "text/plain": [
       "5"
      ]
     },
     "execution_count": 36,
     "metadata": {},
     "output_type": "execute_result"
    }
   ],
   "source": [
    "def add(a,b):\n",
    "    return a+b\n",
    "\n",
    "z=2+3\n",
    "z"
   ]
  },
  {
   "cell_type": "code",
   "execution_count": 32,
   "metadata": {},
   "outputs": [],
   "source": [
    "#Python program to create a function that takes one argument, and that argument will be multiplied with an unknown given number.\n",
    "def func_compute(n):\n",
    "    return lambda x : x * n"
   ]
  },
  {
   "cell_type": "code",
   "execution_count": 29,
   "metadata": {},
   "outputs": [
    {
     "data": {
      "text/plain": [
       "36"
      ]
     },
     "execution_count": 29,
     "metadata": {},
     "output_type": "execute_result"
    }
   ],
   "source": [
    "n=18\n",
    "result=lambda x : x * n\n",
    "result(2)"
   ]
  },
  {
   "cell_type": "code",
   "execution_count": 33,
   "metadata": {},
   "outputs": [],
   "source": [
    "result = func_compute(2)\n",
    "# result= lambda x : x * n"
   ]
  },
  {
   "cell_type": "code",
   "execution_count": 34,
   "metadata": {},
   "outputs": [
    {
     "name": "stdout",
     "output_type": "stream",
     "text": [
      "Double the number of 15 = 30\n"
     ]
    }
   ],
   "source": [
    "print(\"Double the number of 15 =\", result(15))"
   ]
  },
  {
   "cell_type": "code",
   "execution_count": 16,
   "metadata": {},
   "outputs": [
    {
     "name": "stdout",
     "output_type": "stream",
     "text": [
      "Double the number of 15 = 30\n",
      "Triple the number of 15 = 45\n",
      "Quadruple the number of 15 = 60\n",
      "Quintuple the number 15 = 75\n"
     ]
    }
   ],
   "source": [
    "result = func_compute(3)\n",
    "print(\"Triple the number of 15 =\", result(15))\n",
    "result = func_compute(4)\n",
    "print(\"Quadruple the number of 15 =\", result(15))\n",
    "result = func_compute(5)\n",
    "print(\"Quintuple the number 15 =\", result(15))"
   ]
  },
  {
   "cell_type": "code",
   "execution_count": 17,
   "metadata": {},
   "outputs": [
    {
     "name": "stdout",
     "output_type": "stream",
     "text": [
      "Original list of integers:\n",
      "[1, 2, 3, 4, 5, 6, 7, 8, 9, 10]\n"
     ]
    }
   ],
   "source": [
    "#Python program to filter a list of integers using Lambda.\n",
    "nums = [1, 2, 3, 4, 5, 6, 7, 8, 9, 10]\n",
    "print(\"Original list of integers:\")\n",
    "print(nums)"
   ]
  },
  {
   "cell_type": "code",
   "execution_count": 18,
   "metadata": {},
   "outputs": [
    {
     "name": "stdout",
     "output_type": "stream",
     "text": [
      "\n",
      "Even numbers from the said list:\n",
      "[2, 4, 6, 8, 10]\n"
     ]
    }
   ],
   "source": [
    "print(\"\\nEven numbers from the said list:\")\n",
    "even_nums = filter(lambda x: x%2 == 0, nums)\n",
    "print(list(even_nums))"
   ]
  },
  {
   "cell_type": "code",
   "execution_count": 19,
   "metadata": {},
   "outputs": [
    {
     "name": "stdout",
     "output_type": "stream",
     "text": [
      "\n",
      "Odd numbers from the said list:\n",
      "[1, 3, 5, 7, 9]\n"
     ]
    }
   ],
   "source": [
    "print(\"\\nOdd numbers from the said list:\")\n",
    "odd_nums = filter(lambda x: x%2 != 0, nums)\n",
    "print(list(odd_nums))"
   ]
  },
  {
   "cell_type": "code",
   "execution_count": 20,
   "metadata": {},
   "outputs": [
    {
     "name": "stdout",
     "output_type": "stream",
     "text": [
      "Original list of integers:\n",
      "[1, 2, 3, 4, 5, 6, 7, 8, 9, 10]\n"
     ]
    }
   ],
   "source": [
    "#Python program to square and cube every number in a given list of integers using Lambda.\n",
    "nums = [1, 2, 3, 4, 5, 6, 7, 8, 9, 10]\n",
    "print(\"Original list of integers:\")\n",
    "print(nums)"
   ]
  },
  {
   "cell_type": "code",
   "execution_count": 27,
   "metadata": {},
   "outputs": [
    {
     "name": "stdout",
     "output_type": "stream",
     "text": [
      "\n",
      "Square every number of the said list:\n",
      "[1, 4, 9, 16, 25, 36, 49, 64, 81, 100]\n"
     ]
    }
   ],
   "source": [
    "print(\"\\nSquare every number of the said list:\")\n",
    "square_nums = map(lambda x: x ** 2, nums)\n",
    "print(list(square_nums))"
   ]
  },
  {
   "cell_type": "code",
   "execution_count": 22,
   "metadata": {},
   "outputs": [
    {
     "name": "stdout",
     "output_type": "stream",
     "text": [
      "\n",
      "Cube every number of the said list:\n",
      "[1, 8, 27, 64, 125, 216, 343, 512, 729, 1000]\n"
     ]
    }
   ],
   "source": [
    "print(\"\\nCube every number of the said list:\")\n",
    "cube_nums = map(lambda x: x ** 3, nums)\n",
    "print(list(cube_nums))"
   ]
  },
  {
   "cell_type": "markdown",
   "metadata": {},
   "source": [
    "# Object Oriented Programming"
   ]
  },
  {
   "cell_type": "markdown",
   "metadata": {},
   "source": [
    "### create and use of class"
   ]
  },
  {
   "cell_type": "code",
   "execution_count": 39,
   "metadata": {},
   "outputs": [],
   "source": [
    "class Dog():\n",
    "    \"\"\"a simple try of simulating a dog\"\"\"\n",
    "    def __init__(self,name,age):\n",
    "        \"\"\"Initializeattribute: name and age\"\"\"\n",
    "        self.name = name\n",
    "        self.age = age\n",
    "    def sit(self):\n",
    "        \"\"\"Simulate sitting when a dog is ordered to do so\"\"\"\n",
    "        print(self.name.title()+\" \"+\"is now sitting\")\n",
    "    def roll_over(self):\n",
    "        \"\"\"Simulate rolling over when a dog is ordered to do so\"\"\"\n",
    "        print(self.name.title()+\" \"+\"rolled over!\")\n",
    "    def time_with_owner(self):\n",
    "        \"\"\"Tells since when the dog is with the owner\"\"\"\n",
    "        print(self.name.title()+\" \"+\"has been with its owner for about\"+\" \"+str(self.age-1)+\" \"+\"years\")"
   ]
  },
  {
   "cell_type": "code",
   "execution_count": 40,
   "metadata": {},
   "outputs": [],
   "source": [
    "d=Dog('fluffy',5)"
   ]
  },
  {
   "cell_type": "code",
   "execution_count": 41,
   "metadata": {},
   "outputs": [
    {
     "name": "stdout",
     "output_type": "stream",
     "text": [
      "Fluffy is now sitting\n"
     ]
    }
   ],
   "source": [
    "d.sit()"
   ]
  },
  {
   "cell_type": "code",
   "execution_count": 42,
   "metadata": {},
   "outputs": [
    {
     "name": "stdout",
     "output_type": "stream",
     "text": [
      "Fluffy rolled over!\n"
     ]
    }
   ],
   "source": [
    "d.roll_over()"
   ]
  },
  {
   "cell_type": "code",
   "execution_count": 43,
   "metadata": {},
   "outputs": [
    {
     "name": "stdout",
     "output_type": "stream",
     "text": [
      "Fluffy has been with its owner for about 4 years\n"
     ]
    }
   ],
   "source": [
    "d.time_with_owner()"
   ]
  },
  {
   "cell_type": "markdown",
   "metadata": {},
   "source": [
    "### Access Attributes"
   ]
  },
  {
   "cell_type": "code",
   "execution_count": 11,
   "metadata": {},
   "outputs": [
    {
     "name": "stdout",
     "output_type": "stream",
     "text": [
      "Name :  Zara , Salary:  2000\n",
      "Name :  Manni , Salary:  5000\n",
      "Total Employee 2\n"
     ]
    }
   ],
   "source": [
    "class Employee:\n",
    "    empCount = 0\n",
    "    def __init__(self, name, salary):\n",
    "        self.name = name\n",
    "        self.salary = salary\n",
    "        Employee.empCount += 1\n",
    "    def displayCount(self):\n",
    "        print(\"Total Employee %d\" % Employee.empCount )\n",
    "    def displayEmployee(self):\n",
    "        print(\"Name : \", self.name, \", Salary: \", self.salary)\n",
    "\"Create the first object of the employee class\"\n",
    "emp1 = Employee(\"Zara\", 2000)\n",
    "\"Create the second object of the employee class\"\n",
    "emp2 = Employee(\"Mani\", 5000)\n",
    "emp1.displayEmployee()\n",
    "emp2.displayEmployee()\n",
    "print(\"Total Employee %s\" % Employee.empCount)"
   ]
  },
  {
   "cell_type": "markdown",
   "metadata": {},
   "source": [
    "### Class Inheritance"
   ]
  },
  {
   "cell_type": "code",
   "execution_count": 44,
   "metadata": {},
   "outputs": [],
   "source": [
    "class Parent:\n",
    "    # Define the parent class\n",
    "    parentAttr = 100\n",
    "    def __init__(self):\n",
    "        print(\"Call parent class construction method\")\n",
    "    def parentMethod(self):\n",
    "        print('Call parent class method')\n",
    "    def setAttr(self, attr):\n",
    "        Parent.parentAttr = attr\n",
    "    def getAttr(self):\n",
    "        print(\"Parent class attribute\", Parent.parentAttr)\n",
    "\n",
    "\n",
    "class Child(Parent):\n",
    "    # Define a sub-class\n",
    "    def __init__(self):\n",
    "        print(\"Call sub-class construction method\")\n",
    "    def childMethod(self):\n",
    "        print(\"Call sub-class method\")"
   ]
  },
  {
   "cell_type": "code",
   "execution_count": 45,
   "metadata": {},
   "outputs": [
    {
     "name": "stdout",
     "output_type": "stream",
     "text": [
      "Call sub-class construction method\n"
     ]
    }
   ],
   "source": [
    "c = Child()"
   ]
  },
  {
   "cell_type": "code",
   "execution_count": 46,
   "metadata": {},
   "outputs": [
    {
     "name": "stdout",
     "output_type": "stream",
     "text": [
      "Call sub-class method\n"
     ]
    }
   ],
   "source": [
    " # Instantiate sub-class\n",
    "c.childMethod() # Call sub-class method"
   ]
  },
  {
   "cell_type": "code",
   "execution_count": 47,
   "metadata": {},
   "outputs": [
    {
     "name": "stdout",
     "output_type": "stream",
     "text": [
      "Call parent class method\n"
     ]
    }
   ],
   "source": [
    "c.parentMethod() # Call parent class method"
   ]
  },
  {
   "cell_type": "code",
   "execution_count": 48,
   "metadata": {},
   "outputs": [],
   "source": [
    "c.setAttr(200) # Re-call parent class method - set attributes"
   ]
  },
  {
   "cell_type": "code",
   "execution_count": 49,
   "metadata": {},
   "outputs": [
    {
     "name": "stdout",
     "output_type": "stream",
     "text": [
      "Parent class attribute 200\n"
     ]
    }
   ],
   "source": [
    "c.getAttr() # Re-call parent class method - get attributes"
   ]
  },
  {
   "cell_type": "markdown",
   "metadata": {},
   "source": [
    "### Class Attributes & Methods"
   ]
  },
  {
   "cell_type": "code",
   "execution_count": null,
   "metadata": {},
   "outputs": [],
   "source": [
    "class JustCounter:\n",
    "    __secretCount = 0 # Private variable\n",
    "    publicCount = 0 # Public variable\n",
    "    def count(self):\n",
    "        self.__secretCount += 1\n",
    "        self.publicCount += 1\n",
    "        print(self.__secretCount)\n",
    "counter = JustCounter()\n",
    "counter.count()\n",
    "counter.count()\n",
    "print(counter.publicCount)\n",
    "#print(counter.__secretCount) # Error. Instance cannot access private variable"
   ]
  },
  {
   "cell_type": "markdown",
   "metadata": {},
   "source": [
    "# Date & Time"
   ]
  },
  {
   "cell_type": "markdown",
   "metadata": {},
   "source": [
    "### Get the current time"
   ]
  },
  {
   "cell_type": "code",
   "execution_count": 50,
   "metadata": {},
   "outputs": [
    {
     "name": "stdout",
     "output_type": "stream",
     "text": [
      "Local time: time.struct_time(tm_year=2021, tm_mon=1, tm_mday=30, tm_hour=11, tm_min=41, tm_sec=0, tm_wday=5, tm_yday=30, tm_isdst=0)\n"
     ]
    }
   ],
   "source": [
    "import time\n",
    "localtime = time.localtime(time.time())\n",
    "print(\"Local time:\", localtime)"
   ]
  },
  {
   "cell_type": "markdown",
   "metadata": {},
   "source": [
    "### Get the formatted time"
   ]
  },
  {
   "cell_type": "code",
   "execution_count": 51,
   "metadata": {},
   "outputs": [
    {
     "name": "stdout",
     "output_type": "stream",
     "text": [
      "Local time : Sat Jan 30 11:41:57 2021\n"
     ]
    }
   ],
   "source": [
    "localtime = time.asctime( time.localtime(time.time()) )\n",
    "print(\"Local time :\", localtime)\n"
   ]
  },
  {
   "cell_type": "markdown",
   "metadata": {},
   "source": [
    "### Format date"
   ]
  },
  {
   "cell_type": "code",
   "execution_count": 52,
   "metadata": {},
   "outputs": [
    {
     "name": "stdout",
     "output_type": "stream",
     "text": [
      "2021-01-30 11:45:11\n"
     ]
    }
   ],
   "source": [
    "# Format into 2016-03-20 11:45:39\n",
    "print(time.strftime(\"%Y-%m-%d %H:%M:%S\", time.localtime()))"
   ]
  },
  {
   "cell_type": "code",
   "execution_count": 53,
   "metadata": {},
   "outputs": [
    {
     "name": "stdout",
     "output_type": "stream",
     "text": [
      "Sat Jan 30 11:45:13 2021\n"
     ]
    }
   ],
   "source": [
    "# Format into Sat Mar 28 22:24:24 2016\n",
    "print(time.strftime(\"%a %b %d %H:%M:%S %Y\", time.localtime()))"
   ]
  },
  {
   "cell_type": "code",
   "execution_count": 54,
   "metadata": {},
   "outputs": [
    {
     "name": "stdout",
     "output_type": "stream",
     "text": [
      "1459185864.0\n"
     ]
    }
   ],
   "source": [
    "# Turn format string into timestamp\n",
    "a = \"Sat Mar 28 22:24:24 2016\"\n",
    "print(time.mktime(time.strptime(a,\"%a %b %d %H:%M:%S %Y\")))"
   ]
  },
  {
   "cell_type": "markdown",
   "metadata": {},
   "source": [
    "### Get calendar of a month"
   ]
  },
  {
   "cell_type": "code",
   "execution_count": 55,
   "metadata": {},
   "outputs": [
    {
     "name": "stdout",
     "output_type": "stream",
     "text": [
      "output calendar of January 2021:\n",
      "    January 2021\n",
      "Mo Tu We Th Fr Sa Su\n",
      "             1  2  3\n",
      " 4  5  6  7  8  9 10\n",
      "11 12 13 14 15 16 17\n",
      "18 19 20 21 22 23 24\n",
      "25 26 27 28 29 30 31\n",
      "\n"
     ]
    }
   ],
   "source": [
    "import calendar\n",
    "cal = calendar.month(2021, 1)\n",
    "print(\"output calendar of January 2021:\")\n",
    "print(cal)"
   ]
  },
  {
   "cell_type": "markdown",
   "metadata": {},
   "source": [
    "# Read, Write & delete files in python"
   ]
  },
  {
   "cell_type": "code",
   "execution_count": 61,
   "metadata": {},
   "outputs": [],
   "source": [
    "import os"
   ]
  },
  {
   "cell_type": "code",
   "execution_count": 64,
   "metadata": {},
   "outputs": [
    {
     "name": "stderr",
     "output_type": "stream",
     "text": [
      "C:\\Users\\hassan.ahmed1\\Anaconda3\\lib\\site-packages\\ipykernel_launcher.py:1: DeprecationWarning: The Windows bytes API has been deprecated, use Unicode filenames instead\n",
      "  \"\"\"Entry point for launching an IPython kernel.\n"
     ]
    },
    {
     "data": {
      "text/plain": [
       "b'C:\\\\Users\\\\hassan.ahmed1\\\\FTI Cohort 3\\\\Module 1\\\\Lecture # 3'"
      ]
     },
     "execution_count": 64,
     "metadata": {},
     "output_type": "execute_result"
    }
   ],
   "source": [
    " os.getcwdb()"
   ]
  },
  {
   "cell_type": "code",
   "execution_count": 58,
   "metadata": {},
   "outputs": [],
   "source": [
    "f = open(\"xyz.txt\", \"x\")\n",
    "f.close()"
   ]
  },
  {
   "cell_type": "code",
   "execution_count": 69,
   "metadata": {},
   "outputs": [],
   "source": [
    "f= open(\"xyz.txt\", \"w\")\n",
    "f.write(\"An ancient text called the Voynich Manuscript still baffles scientists.\")\n",
    "f.close()"
   ]
  },
  {
   "cell_type": "code",
   "execution_count": 81,
   "metadata": {},
   "outputs": [],
   "source": [
    "s = open(\"xyz.txt\", \"a\")\n",
    "s.write(\"\\nAn ancient text called the Voynich Manuscript still baffles scientists.\")\n",
    "s.close()"
   ]
  },
  {
   "cell_type": "code",
   "execution_count": 85,
   "metadata": {},
   "outputs": [
    {
     "name": "stdout",
     "output_type": "stream",
     "text": [
      "An ancient text called the Voynich Manuscript still baffles scientists.\n",
      "An ancient text called the Voynich Manuscript still baffles scientists.\n",
      "An ancient text called the Voynich Manuscript still baffles scientists.\n",
      "An ancient text called the Voynich Manuscript still baffles scientists.\n",
      "An ancient text called the Voynich Manuscript still baffles scientists.\n",
      "An ancient text called the Voynich Manuscript still baffles scientists.\n",
      "An ancient text called the Voynich Manuscript still baffles scientists.\n",
      "An ancient text called the Voynich Manuscript still baffles scientists.\n",
      "An ancient text called the Voynich Manuscript still baffles scientists.\n",
      "An ancient text called the Voynich Manuscript still baffles scientists.\n",
      "An ancient text called the Voynich Manuscript still baffles scientists.\n",
      "An ancient text called the Voynich Manuscript still baffles scientists.\n",
      "An ancient text called the Voynich Manuscript still baffles scientists.\n"
     ]
    }
   ],
   "source": [
    "s = open(\"xyz.txt\", \"r\")\n",
    "print(s.read())\n",
    "s.close()"
   ]
  },
  {
   "cell_type": "code",
   "execution_count": null,
   "metadata": {},
   "outputs": [],
   "source": [
    "d = open(\"History_facts.txt\", \"w\")\n",
    "d.write(\"An ancient text called the Voynich Manuscript still baffles scientists.\")\n",
    "d.close()\n",
    "d = open(\"Historic_facts.txt\", \"r\")\n",
    "print(d.read())\n",
    "d.close()"
   ]
  },
  {
   "cell_type": "code",
   "execution_count": 86,
   "metadata": {},
   "outputs": [],
   "source": [
    "os.remove(\"xyz.txt\")"
   ]
  },
  {
   "cell_type": "markdown",
   "metadata": {},
   "source": [
    "# Regular Expressions"
   ]
  },
  {
   "cell_type": "code",
   "execution_count": 87,
   "metadata": {},
   "outputs": [],
   "source": [
    "import re"
   ]
  },
  {
   "cell_type": "code",
   "execution_count": 89,
   "metadata": {},
   "outputs": [
    {
     "name": "stdout",
     "output_type": "stream",
     "text": [
      "<callable_iterator object at 0x000002412BC9A288>\n"
     ]
    }
   ],
   "source": [
    "address = '34/1 23rd street Main Khayaban e Mujahid DHA Karachi Pakistan'\n",
    "pattern = re.compile('Karachi')\n",
    "matches = pattern.finditer(address)\n",
    "print(matches)"
   ]
  },
  {
   "cell_type": "code",
   "execution_count": 90,
   "metadata": {},
   "outputs": [
    {
     "name": "stdout",
     "output_type": "stream",
     "text": [
      "<re.Match object; span=(45, 52), match='Karachi'>\n"
     ]
    }
   ],
   "source": [
    "for i in matches:\n",
    "    print(i)"
   ]
  },
  {
   "cell_type": "code",
   "execution_count": 91,
   "metadata": {},
   "outputs": [
    {
     "name": "stdout",
     "output_type": "stream",
     "text": [
      "['.']\n"
     ]
    }
   ],
   "source": [
    "text = 'DHA SUFFA. UNIVERSITY'\n",
    "print(re.findall('\\.', text))# matches a period"
   ]
  },
  {
   "cell_type": "code",
   "execution_count": 93,
   "metadata": {},
   "outputs": [
    {
     "name": "stdout",
     "output_type": "stream",
     "text": [
      "['D', 'H', 'A', ' ', 'S', 'U', 'F', 'F', 'A', ' ', 'U', 'N', 'I', 'V', 'E', 'R', 'S', 'I', 'T', 'Y']\n"
     ]
    }
   ],
   "source": [
    "print(re.findall('[^\\.]', text))  # matches anything but a period"
   ]
  },
  {
   "cell_type": "code",
   "execution_count": 95,
   "metadata": {},
   "outputs": [
    {
     "name": "stdout",
     "output_type": "stream",
     "text": [
      "[' S', ' U']\n"
     ]
    }
   ],
   "source": [
    "print(re.findall('\\s*[^\\.]', text))  # matches anything but a period"
   ]
  },
  {
   "cell_type": "code",
   "execution_count": 99,
   "metadata": {},
   "outputs": [
    {
     "name": "stdout",
     "output_type": "stream",
     "text": [
      "['33', '2', '1']\n"
     ]
    }
   ],
   "source": [
    "text = 'There might be too many 33 words in this text 2 but there is only 1 number'\n",
    "print(re.findall('\\d+', text))  # \\d  Any digit. The + mandates at least 1 digit."
   ]
  },
  {
   "cell_type": "code",
   "execution_count": 100,
   "metadata": {},
   "outputs": [
    {
     "name": "stdout",
     "output_type": "stream",
     "text": [
      "['1', '1']\n"
     ]
    }
   ],
   "source": [
    "#Assignment\n",
    "\n",
    "text='find needle in the haystack' #find needle\n",
    "\n",
    "#find the number 1\n",
    "text = 'llllllllllllllllllllllllllllll1llllllllllll1lllllllllllllllllllllllllllllllllllllll' #find 1\n",
    "print(re.findall('\\d+', text))"
   ]
  },
  {
   "cell_type": "code",
   "execution_count": 101,
   "metadata": {},
   "outputs": [
    {
     "data": {
      "text/plain": [
       "['101',\n",
       " 'COM',\n",
       " 'Computers',\n",
       " '205',\n",
       " 'MAT',\n",
       " 'Mathematics',\n",
       " '189',\n",
       " 'ENG',\n",
       " 'English']"
      ]
     },
     "execution_count": 101,
     "metadata": {},
     "output_type": "execute_result"
    }
   ],
   "source": [
    "regex = re.compile('\\s+')\n",
    "\n",
    "text = \"\"\"101 COM    Computers\n",
    "205 MAT   Mathematics\n",
    "189 ENG   English\"\"\"\n",
    "# split the text around 1 or more space characters\n",
    "re.split('\\s+', text)"
   ]
  },
  {
   "cell_type": "code",
   "execution_count": 102,
   "metadata": {},
   "outputs": [
    {
     "data": {
      "text/plain": [
       "['101',\n",
       " 'COM',\n",
       " 'Computers',\n",
       " '205',\n",
       " 'MAT',\n",
       " 'Mathematics',\n",
       " '189',\n",
       " 'ENG',\n",
       " 'English']"
      ]
     },
     "execution_count": 102,
     "metadata": {},
     "output_type": "execute_result"
    }
   ],
   "source": [
    "regex.split(text)"
   ]
  },
  {
   "cell_type": "code",
   "execution_count": 103,
   "metadata": {},
   "outputs": [
    {
     "data": {
      "text/plain": [
       "['101', '205', '189']"
      ]
     },
     "execution_count": 103,
     "metadata": {},
     "output_type": "execute_result"
    }
   ],
   "source": [
    "# find all numbers within the text\n",
    "#print(text)\n",
    "regex_num = re.compile('\\d+')\n",
    "regex_num.findall(text)"
   ]
  },
  {
   "cell_type": "markdown",
   "metadata": {},
   "source": [
    "As the name suggests, regex.search() searches for the pattern in a given text.\n",
    "\n",
    "But unlike findall which returns the matched portions of the text as a list, regex.search() returns a particular match object that contains the starting and ending positions of the first occurrence of the pattern.\n",
    "\n",
    "Likewise, regex.match() also returns a match object. But the difference is, it requires the pattern to be present at the beginning of the text itself."
   ]
  },
  {
   "cell_type": "code",
   "execution_count": 104,
   "metadata": {},
   "outputs": [],
   "source": [
    "# define the text\n",
    "text2 = \"\"\"COM    Computers\n",
    "205 MAT   Mathematics 189\"\"\"\n",
    "\n",
    "# compile the regex and search the pattern\n",
    "regex_num = re.compile('\\d+')\n",
    "s = regex_num.search(text2)"
   ]
  },
  {
   "cell_type": "code",
   "execution_count": 105,
   "metadata": {},
   "outputs": [
    {
     "name": "stdout",
     "output_type": "stream",
     "text": [
      "Starting Position:  17\n",
      "Ending Position:  20\n",
      "205\n"
     ]
    }
   ],
   "source": [
    "print('Starting Position: ', s.start())\n",
    "print('Ending Position: ', s.end())\n",
    "print(text2[s.start():s.end()])"
   ]
  },
  {
   "cell_type": "markdown",
   "metadata": {},
   "source": [
    "Alternately, you can get the same output using the group() method of the match object."
   ]
  },
  {
   "cell_type": "code",
   "execution_count": 106,
   "metadata": {},
   "outputs": [
    {
     "name": "stdout",
     "output_type": "stream",
     "text": [
      "205\n"
     ]
    }
   ],
   "source": [
    "print(s.group())"
   ]
  },
  {
   "cell_type": "code",
   "execution_count": 107,
   "metadata": {},
   "outputs": [
    {
     "name": "stdout",
     "output_type": "stream",
     "text": [
      "None\n"
     ]
    }
   ],
   "source": [
    "m = regex_num.match(text2)\n",
    "print(m)"
   ]
  },
  {
   "cell_type": "markdown",
   "metadata": {},
   "source": [
    "To replace texts, use the regex.sub().\n",
    "\n",
    "Let’s consider the following modified version of the courses text. Here I have added an extra tab after each course code."
   ]
  },
  {
   "cell_type": "code",
   "execution_count": 108,
   "metadata": {},
   "outputs": [
    {
     "name": "stdout",
     "output_type": "stream",
     "text": [
      "101   COM \t  Computers\n",
      "205   MAT \t  Mathematics\n",
      "189   ENG  \t  English\n"
     ]
    }
   ],
   "source": [
    "# define the text\n",
    "text = \"\"\"101   COM \\t  Computers\n",
    "205   MAT \\t  Mathematics\n",
    "189   ENG  \\t  English\"\"\"  \n",
    "print(text)"
   ]
  },
  {
   "cell_type": "markdown",
   "metadata": {},
   "source": [
    "From the above text, I want to even out all the extra spaces and put all the words in one single line.\n",
    "\n",
    "To do this, you just have to use regex.sub to replace the '\\s+' pattern with a single space ‘ ‘."
   ]
  },
  {
   "cell_type": "code",
   "execution_count": 109,
   "metadata": {},
   "outputs": [
    {
     "name": "stdout",
     "output_type": "stream",
     "text": [
      "101 COM Computers 205 MAT Mathematics 189 ENG English\n"
     ]
    }
   ],
   "source": [
    "# replace one or more spaces with single space\n",
    "regex = re.compile('\\s+')\n",
    "print(regex.sub(' ', text))"
   ]
  },
  {
   "cell_type": "code",
   "execution_count": 110,
   "metadata": {},
   "outputs": [
    {
     "name": "stdout",
     "output_type": "stream",
     "text": [
      "101 COM Computers 205 MAT Mathematics 189 ENG English\n"
     ]
    }
   ],
   "source": [
    "# or\n",
    "print(re.sub('\\s+', ' ', text))"
   ]
  },
  {
   "cell_type": "markdown",
   "metadata": {},
   "source": [
    "Suppose you only want to get rid of the extra spaces but want to keep the course entries in the new line itself. To achieve that you should use a regex that effectively excludes new line characters but includes all other whitespaces.\n",
    "\n",
    "This can be done using a negative lookahead (?!\\n). It checks for an upcoming newline character and excludes it from the pattern."
   ]
  },
  {
   "cell_type": "code",
   "execution_count": 111,
   "metadata": {},
   "outputs": [
    {
     "name": "stdout",
     "output_type": "stream",
     "text": [
      "101 COM Computers\n",
      "205 MAT Mathematics\n",
      "189 ENG English\n"
     ]
    }
   ],
   "source": [
    "regex = re.compile('((?!\\n)\\s+)')\n",
    "print(regex.sub(' ', text))"
   ]
  },
  {
   "cell_type": "markdown",
   "metadata": {},
   "source": [
    "### Regex Groups"
   ]
  },
  {
   "cell_type": "code",
   "execution_count": 113,
   "metadata": {},
   "outputs": [
    {
     "data": {
      "text/plain": [
       "['101', '205', '189']"
      ]
     },
     "execution_count": 113,
     "metadata": {},
     "output_type": "execute_result"
    }
   ],
   "source": [
    "text = \"\"\"101   COM   Computers\n",
    "205   MAT   Mathematics\n",
    "189   ENG    English\"\"\"  \n",
    "\n",
    "# 1. extract all course numbers\n",
    "re.findall('[0-9]+', text)"
   ]
  },
  {
   "cell_type": "code",
   "execution_count": 114,
   "metadata": {},
   "outputs": [
    {
     "data": {
      "text/plain": [
       "['COM', 'MAT', 'ENG']"
      ]
     },
     "execution_count": 114,
     "metadata": {},
     "output_type": "execute_result"
    }
   ],
   "source": [
    "# 2. extract all course codes\n",
    "re.findall('[A-Z]{3}', text)"
   ]
  },
  {
   "cell_type": "code",
   "execution_count": 115,
   "metadata": {},
   "outputs": [
    {
     "data": {
      "text/plain": [
       "['Computers', 'Mathematics', 'English']"
      ]
     },
     "execution_count": 115,
     "metadata": {},
     "output_type": "execute_result"
    }
   ],
   "source": [
    "# 3. extract all course names\n",
    "re.findall('[A-Za-z]{4,}', text)"
   ]
  },
  {
   "cell_type": "code",
   "execution_count": 116,
   "metadata": {},
   "outputs": [
    {
     "data": {
      "text/plain": [
       "[('101', 'COM', 'Computers'),\n",
       " ('205', 'MAT', 'Mathematics'),\n",
       " ('189', 'ENG', 'English')]"
      ]
     },
     "execution_count": 116,
     "metadata": {},
     "output_type": "execute_result"
    }
   ],
   "source": [
    "# define the course text pattern groups and extract\n",
    "course_pattern = '([0-9]+)\\s*([A-Z]{3})\\s*([A-Za-z]{4,})'\n",
    "re.findall(course_pattern, text)"
   ]
  },
  {
   "cell_type": "code",
   "execution_count": 118,
   "metadata": {},
   "outputs": [
    {
     "name": "stdout",
     "output_type": "stream",
     "text": [
      "None\n"
     ]
    }
   ],
   "source": [
    "text = 'machinelearningplus.123'\n",
    "print(re.match('[A-Za-z]{4,}\\.com', text))  # matches a period"
   ]
  },
  {
   "cell_type": "markdown",
   "metadata": {},
   "source": [
    "# Thanks"
   ]
  }
 ],
 "metadata": {
  "kernelspec": {
   "display_name": "Python 3",
   "language": "python",
   "name": "python3"
  },
  "language_info": {
   "codemirror_mode": {
    "name": "ipython",
    "version": 3
   },
   "file_extension": ".py",
   "mimetype": "text/x-python",
   "name": "python",
   "nbconvert_exporter": "python",
   "pygments_lexer": "ipython3",
   "version": "3.7.6"
  }
 },
 "nbformat": 4,
 "nbformat_minor": 4
}
